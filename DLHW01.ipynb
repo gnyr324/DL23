{
  "nbformat": 4,
  "nbformat_minor": 0,
  "metadata": {
    "colab": {
      "provenance": [],
      "authorship_tag": "ABX9TyMEPcYbvrqpZSgpoLb8PadD",
      "include_colab_link": true
    },
    "kernelspec": {
      "name": "python3",
      "display_name": "Python 3"
    },
    "language_info": {
      "name": "python"
    }
  },
  "cells": [
    {
      "cell_type": "markdown",
      "metadata": {
        "id": "view-in-github",
        "colab_type": "text"
      },
      "source": [
        "<a href=\"https://colab.research.google.com/github/gnyr324/DL23/blob/main/DLHW01.ipynb\" target=\"_parent\"><img src=\"https://colab.research.google.com/assets/colab-badge.svg\" alt=\"Open In Colab\"/></a>"
      ]
    },
    {
      "cell_type": "markdown",
      "source": [
        "Demo {gTTS}"
      ],
      "metadata": {
        "id": "FwadXVHPKYx_"
      }
    },
    {
      "cell_type": "code",
      "source": [
        "#@markdown 🔄 [1] Making functions (sample): tts(text)\n",
        "%%capture\n",
        "!pip install gTTS\n",
        "from gtts import gTTS\n",
        "from IPython.display import Audio\n",
        "\n",
        "def tts(text):\n",
        "  gtts_object = gTTS(text,lang = \"en\", slow = True) \n",
        "  gtts_object.save(\"myaudio.mp3\")\n",
        "  return Audio(\"myaudio.mp3\")\n"
      ],
      "metadata": {
        "id": "sJEEzz48H2l5"
      },
      "execution_count": 3,
      "outputs": []
    },
    {
      "cell_type": "code",
      "source": [
        "tts('Be my Valentine')"
      ],
      "metadata": {
        "colab": {
          "base_uri": "https://localhost:8080/",
          "height": 74
        },
        "id": "UF-W61RtIVRN",
        "outputId": "96d14029-0633-4999-974b-ef5017539b3a"
      },
      "execution_count": 4,
      "outputs": [
        {
          "output_type": "execute_result",
          "data": {
            "text/plain": [
              "<IPython.lib.display.Audio object>"
            ],
            "text/html": [
              "\n",
              "                <audio  controls=\"controls\" >\n",
              "                    <source src=\"data:audio/mpeg;base64,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\" type=\"audio/mpeg\" />\n",
              "                    Your browser does not support the audio element.\n",
              "                </audio>\n",
              "              "
            ]
          },
          "metadata": {},
          "execution_count": 4
        }
      ]
    },
    {
      "cell_type": "code",
      "source": [],
      "metadata": {
        "id": "r8HCUavrJ0BP"
      },
      "execution_count": null,
      "outputs": []
    },
    {
      "cell_type": "markdown",
      "source": [
        "ktts, etts, ftts"
      ],
      "metadata": {
        "id": "7Har9IYlJxyX"
      }
    },
    {
      "cell_type": "code",
      "source": [
        "#@markdown 🔄 Making functions: etts('text'), ktts('text'), ftts('text')\n",
        "%%capture\n",
        "!pip install gTTS      # Installation\n",
        "from gtts import gTTS  # Import\n",
        "from IPython.display import Audio\n",
        "\n",
        "#######################\n",
        "def etts(text):\n",
        "  text_to_say = text\n",
        "\n",
        "  gtts_object = gTTS(text = text_to_say,\n",
        "                     lang = \"en\", tld = \"us\",\n",
        "                    slow = True)\n",
        "  \n",
        "  gtts_object.save(\"E-audio.mp3\")\n",
        "  return Audio(\"E-audio.mp3\")\n",
        "#######################\n",
        "\n",
        "def ktts(text):\n",
        "  text_to_say = text\n",
        "\n",
        "  gtts_object = gTTS(text = text_to_say,\n",
        "                     lang = \"ko\",\n",
        "                    slow = False)\n",
        "  \n",
        "  gtts_object.save(\"K-audio.mp3\")\n",
        "  return Audio(\"K-audio.mp3\")\n",
        "\n",
        "#######################\n",
        "\n",
        "def ftts(text):\n",
        "  text_to_say = text\n",
        "\n",
        "  gtts_object = gTTS(text = text_to_say,\n",
        "                     lang = \"fr\",\n",
        "                    slow = False)\n",
        "  \n",
        "  gtts_object.save(\"F-audio.mp3\")\n",
        "  return Audio(\"F-audio.mp3\")"
      ],
      "metadata": {
        "id": "QEzVReEaI9Ed"
      },
      "execution_count": 6,
      "outputs": []
    },
    {
      "cell_type": "code",
      "source": [
        "etts(\"Be my Valentine!\")"
      ],
      "metadata": {
        "colab": {
          "base_uri": "https://localhost:8080/",
          "height": 74
        },
        "id": "g6NL3u_zJHzs",
        "outputId": "8633df06-715c-4b86-8977-35c3e9842eaa"
      },
      "execution_count": 8,
      "outputs": [
        {
          "output_type": "execute_result",
          "data": {
            "text/plain": [
              "<IPython.lib.display.Audio object>"
            ],
            "text/html": [
              "\n",
              "                <audio  controls=\"controls\" >\n",
              "                    <source src=\"data:audio/mpeg;base64,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\" type=\"audio/mpeg\" />\n",
              "                    Your browser does not support the audio element.\n",
              "                </audio>\n",
              "              "
            ]
          },
          "metadata": {},
          "execution_count": 8
        }
      ]
    },
    {
      "cell_type": "code",
      "source": [
        "ktts(\"발렌타인 데이\")"
      ],
      "metadata": {
        "colab": {
          "base_uri": "https://localhost:8080/",
          "height": 74
        },
        "id": "hBalkn-dJP-u",
        "outputId": "24af50c6-ad4e-44d2-b6e2-4b3357fb4779"
      },
      "execution_count": 7,
      "outputs": [
        {
          "output_type": "execute_result",
          "data": {
            "text/plain": [
              "<IPython.lib.display.Audio object>"
            ],
            "text/html": [
              "\n",
              "                <audio  controls=\"controls\" >\n",
              "                    <source src=\"data:audio/mpeg;base64,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\" type=\"audio/mpeg\" />\n",
              "                    Your browser does not support the audio element.\n",
              "                </audio>\n",
              "              "
            ]
          },
          "metadata": {},
          "execution_count": 7
        }
      ]
    },
    {
      "cell_type": "code",
      "source": [
        "ftts(\"La Ville Lumière\")"
      ],
      "metadata": {
        "colab": {
          "base_uri": "https://localhost:8080/",
          "height": 74
        },
        "id": "O9xw2PTKJcLL",
        "outputId": "659120b6-8988-41b7-881e-c8c8ef9cfc3c"
      },
      "execution_count": 9,
      "outputs": [
        {
          "output_type": "execute_result",
          "data": {
            "text/plain": [
              "<IPython.lib.display.Audio object>"
            ],
            "text/html": [
              "\n",
              "                <audio  controls=\"controls\" >\n",
              "                    <source src=\"data:audio/mpeg;base64,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\" type=\"audio/mpeg\" />\n",
              "                    Your browser does not support the audio element.\n",
              "                </audio>\n",
              "              "
            ]
          },
          "metadata": {},
          "execution_count": 9
        }
      ]
    },
    {
      "cell_type": "code",
      "source": [],
      "metadata": {
        "id": "BPZxbra9KSid"
      },
      "execution_count": null,
      "outputs": []
    },
    {
      "cell_type": "markdown",
      "source": [
        "Using dropbox selections!"
      ],
      "metadata": {
        "id": "lq-3uvsuKQLs"
      }
    },
    {
      "cell_type": "code",
      "source": [
        "Language = \"fr\" #@param = [\"en\", \"kr\", \"fr\"]\n",
        "\n",
        "mytext = input(\"Type text: \")\n",
        "if Language == \"en\":\n",
        "  etts(mytext)\n",
        "  myaudio = \"E-audio.mp3\"\n",
        "elif Language == \"kr\":\n",
        "  ktts(mytext)\n",
        "  myaudio = \"K-audio.mp3\"\n",
        "elif Language == \"fr\":\n",
        "  ftts(mytext)\n",
        "  myaudio = \"F-audio.mp3\"\n",
        "Audio(myaudio)"
      ],
      "metadata": {
        "colab": {
          "base_uri": "https://localhost:8080/",
          "height": 93
        },
        "id": "sMR86QEgJ1Bq",
        "outputId": "4cbe6b35-783a-491b-a42a-5cafc7e2ed1c"
      },
      "execution_count": 12,
      "outputs": [
        {
          "name": "stdout",
          "output_type": "stream",
          "text": [
            "Type text: La Ville Lumière\n"
          ]
        },
        {
          "output_type": "execute_result",
          "data": {
            "text/plain": [
              "<IPython.lib.display.Audio object>"
            ],
            "text/html": [
              "\n",
              "                <audio  controls=\"controls\" >\n",
              "                    <source src=\"data:audio/mpeg;base64,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\" type=\"audio/mpeg\" />\n",
              "                    Your browser does not support the audio element.\n",
              "                </audio>\n",
              "              "
            ]
          },
          "metadata": {},
          "execution_count": 12
        }
      ]
    }
  ]
}